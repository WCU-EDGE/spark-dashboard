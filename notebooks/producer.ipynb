{
 "cells": [
  {
   "cell_type": "code",
   "execution_count": 32,
   "id": "b7cc2e6a",
   "metadata": {},
   "outputs": [],
   "source": [
    "from kafka import KafkaProducer\n",
    "import json"
   ]
  },
  {
   "cell_type": "code",
   "execution_count": 101,
   "id": "3ab03010",
   "metadata": {},
   "outputs": [],
   "source": [
    "producer = KafkaProducer(\n",
    " bootstrap_servers='broker:9092',\n",
    " value_serializer=lambda v: json.dumps(v).encode('ascii')\n",
    ")"
   ]
  },
  {
   "cell_type": "code",
   "execution_count": 121,
   "id": "3ff34ece",
   "metadata": {},
   "outputs": [],
   "source": [
    "producer.send(\n",
    " 'test',\n",
    " value=\n",
    "        {\n",
    "            \"measurement\": \"cpu_load_short\",\n",
    "            \"tags\": {\n",
    "                \"host\": \"server01\",\n",
    "                \"region\": \"us-west\"\n",
    "            },\n",
    "            \"time\": \"2021-11-11T23:00:00Z\",\n",
    "            \"fields\": {\n",
    "                \"Float_value\": 0.7,\n",
    "                \"Int_value\": 4,\n",
    "                \"String_value\": \"Text\",\n",
    "                \"Bool_value\": True\n",
    "            }\n",
    "        }\n",
    ")\n",
    "producer.flush()"
   ]
  },
  {
   "cell_type": "code",
   "execution_count": 109,
   "id": "ecd50592",
   "metadata": {},
   "outputs": [],
   "source": [
    "producer.send(\n",
    " 'test',\n",
    " value=\n",
    "    {\n",
    "     \"name\": \"Golden Rams\",\n",
    "     \"hotel\": \"Luxury Hotel\",\n",
    "     \"dateFrom\": \"25-06-2021\",\n",
    "     \"dateTo\": \"07-07-2021\",  \n",
    "     \"details\": \"I want the best room!!!\"\n",
    "     }\n",
    ")\n",
    "producer.flush()"
   ]
  },
  {
   "cell_type": "code",
   "execution_count": null,
   "id": "67fc0e7f",
   "metadata": {},
   "outputs": [],
   "source": []
  }
 ],
 "metadata": {
  "kernelspec": {
   "display_name": "Python 3",
   "language": "python",
   "name": "python3"
  },
  "language_info": {
   "codemirror_mode": {
    "name": "ipython",
    "version": 3
   },
   "file_extension": ".py",
   "mimetype": "text/x-python",
   "name": "python",
   "nbconvert_exporter": "python",
   "pygments_lexer": "ipython3",
   "version": "3.6.9"
  }
 },
 "nbformat": 4,
 "nbformat_minor": 5
}
