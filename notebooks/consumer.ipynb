{
 "cells": [
  {
   "cell_type": "code",
   "execution_count": 1,
   "id": "778bed77",
   "metadata": {},
   "outputs": [],
   "source": [
    "from kafka import KafkaConsumer\n",
    "import json\n",
    "from influxdb import InfluxDBClient"
   ]
  },
  {
   "cell_type": "code",
   "execution_count": 64,
   "id": "60e08a0e",
   "metadata": {},
   "outputs": [],
   "source": [
    "consumer = KafkaConsumer(\n",
    " bootstrap_servers='broker:9092',\n",
    " value_deserializer = lambda v: json.loads(v.decode('ascii')),\n",
    " auto_offset_reset='earliest'\n",
    ")"
   ]
  },
  {
   "cell_type": "code",
   "execution_count": null,
   "id": "6b1cc09b",
   "metadata": {},
   "outputs": [
    {
     "name": "stdout",
     "output_type": "stream",
     "text": [
      "{'measurement': 'cpu_load_short', 'tags': {'host': 'server01', 'region': 'us-west'}, 'time': '2021-11-19T23:00:00Z', 'fields': {'Float_value': 0.68, 'Int_value': 4, 'String_value': 'Text', 'Bool_value': True}}\n",
      "{'measurement': 'cpu_load_short', 'tags': {'host': 'server01', 'region': 'us-west'}, 'time': '2021-11-14T23:00:00Z', 'fields': {'Float_value': 0.68, 'Int_value': 4, 'String_value': 'Text', 'Bool_value': True}}\n",
      "{'measurement': 'cpu_load_short', 'tags': {'host': 'server01', 'region': 'us-west'}, 'time': '2021-11-11T23:00:00Z', 'fields': {'Float_value': 0.68, 'Int_value': 4, 'String_value': 'Text', 'Bool_value': True}}\n",
      "{'measurement': 'cpu_load_short', 'tags': {'host': 'server01', 'region': 'us-west'}, 'time': '2021-11-11T23:00:00Z', 'fields': {'Float_value': 0.68, 'Int_value': 4, 'String_value': 'Text', 'Bool_value': True}}\n",
      "{'measurement': 'cpu_load_short', 'tags': {'host': 'server01', 'region': 'us-west'}, 'time': '2021-11-11T23:00:00Z', 'fields': {'Float_value': 0.7, 'Int_value': 4, 'String_value': 'Text', 'Bool_value': True}}\n"
     ]
    }
   ],
   "source": [
    "consumer.subscribe(topics='test')\n",
    "client = InfluxDBClient('grafana.patodo-112924.edge-PG0.clemson.cloudlab.us', '8086', 'test')\n",
    "# client.get_list_database()\n",
    "\n",
    "for message in consumer:\n",
    "    print(message.value)\n",
    "    client.write_points([message.value],'s','test')"
   ]
  },
  {
   "cell_type": "code",
   "execution_count": null,
   "id": "254af5c8",
   "metadata": {},
   "outputs": [],
   "source": []
  }
 ],
 "metadata": {
  "kernelspec": {
   "display_name": "Python 3",
   "language": "python",
   "name": "python3"
  },
  "language_info": {
   "codemirror_mode": {
    "name": "ipython",
    "version": 3
   },
   "file_extension": ".py",
   "mimetype": "text/x-python",
   "name": "python",
   "nbconvert_exporter": "python",
   "pygments_lexer": "ipython3",
   "version": "3.6.9"
  }
 },
 "nbformat": 4,
 "nbformat_minor": 5
}
