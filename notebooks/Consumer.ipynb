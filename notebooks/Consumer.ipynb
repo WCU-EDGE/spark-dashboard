{
 "cells": [
  {
   "cell_type": "code",
   "execution_count": 1,
   "id": "87da895a",
   "metadata": {},
   "outputs": [],
   "source": [
    "from kafka import KafkaConsumer\n",
    "import json"
   ]
  },
  {
   "cell_type": "code",
   "execution_count": 2,
   "id": "3d5412b9",
   "metadata": {},
   "outputs": [],
   "source": [
    "consumer = KafkaConsumer(\n",
    " bootstrap_servers='broker:9092',\n",
    " value_deserializer = lambda v: json.loads(v.decode('ascii')),\n",
    " auto_offset_reset='earliest'\n",
    ")"
   ]
  },
  {
   "cell_type": "code",
   "execution_count": null,
   "id": "83f73dcb",
   "metadata": {},
   "outputs": [
    {
     "name": "stdout",
     "output_type": "stream",
     "text": [
      "0:0: v={'name': 'Giuseppe Rossi', 'hotel': 'Luxury Hotel', 'dateFrom': '25-06-2021', 'dateTo': '07-07-2021', 'details': 'I want the best room!!!'}\n",
      "0:1: v={'name': 'Golden Rams', 'hotel': 'Luxury Hotel', 'dateFrom': '25-06-2021', 'dateTo': '07-07-2021', 'details': 'I want the best room!!!'}\n"
     ]
    }
   ],
   "source": [
    "consumer.subscribe(topics='test')\n",
    "for message in consumer:\n",
    "    print (\"%d:%d: v=%s\" % (message.partition, message.offset, message.value))\n",
    "    # send thing to influx"
   ]
  },
  {
   "cell_type": "code",
   "execution_count": null,
   "id": "703bbded",
   "metadata": {},
   "outputs": [],
   "source": []
  }
 ],
 "metadata": {
  "kernelspec": {
   "display_name": "Python 3",
   "language": "python",
   "name": "python3"
  },
  "language_info": {
   "codemirror_mode": {
    "name": "ipython",
    "version": 3
   },
   "file_extension": ".py",
   "mimetype": "text/x-python",
   "name": "python",
   "nbconvert_exporter": "python",
   "pygments_lexer": "ipython3",
   "version": "3.6.9"
  }
 },
 "nbformat": 4,
 "nbformat_minor": 5
}
