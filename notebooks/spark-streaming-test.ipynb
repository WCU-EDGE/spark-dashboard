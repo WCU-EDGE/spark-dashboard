{
 "cells": [
  {
   "cell_type": "code",
   "execution_count": 1,
   "metadata": {},
   "outputs": [],
   "source": [
    "import os\n",
    "import sys\n",
    "\n",
    "spark_path = os.environ['SPARK_HOME']\n",
    "sys.path.append(spark_path + \"/bin\")\n",
    "sys.path.append(spark_path + \"/python\")\n",
    "sys.path.append(spark_path + \"/python/pyspark/\")\n",
    "sys.path.append(spark_path + \"/python/lib\")\n",
    "sys.path.append(spark_path + \"/python/lib/pyspark.zip\")\n",
    "sys.path.append(spark_path + \"/python/lib/py4j-0.10.9-src.zip\")\n",
    "\n",
    "import findspark\n",
    "findspark.init()\n",
    "\n",
    "import pyspark"
   ]
  },
  {
   "cell_type": "code",
   "execution_count": 2,
   "metadata": {},
   "outputs": [],
   "source": [
    "#these need to be tweaked for workers\n",
    "number_cores = 8\n",
    "memory_gb = 24\n",
    "conf = (pyspark.SparkConf().setMaster('spark://192.168.1.1:7077'.format(number_cores)).set('spark.driver.memory', '{}g'.format(memory_gb)))\n",
    "sc = pyspark.SparkContext(conf=conf)"
   ]
  },
  {
   "cell_type": "code",
   "execution_count": 3,
   "metadata": {},
   "outputs": [
    {
     "name": "stdout",
     "output_type": "stream",
     "text": [
      "total 8617536\r\n",
      "-rw-r--r--  1 lngo  staff    25M Nov  9 18:02 yelp_academic_dataset_business.json.gz\r\n",
      "-rw-r--r--  1 lngo  staff   2.3G Nov  9 18:02 yelp_academic_dataset_review.json.gz\r\n",
      "-rw-r--r--  1 lngo  staff   1.8G Oct 21 15:00 yelp_academic_dataset_user.json.gz\r\n"
     ]
    }
   ],
   "source": [
    "!ls -lh ../data/yelp/"
   ]
  },
  {
   "cell_type": "markdown",
   "metadata": {},
   "source": [
    "### Identify 100 users with highest number of ratings/fans.  \n",
    "\n",
    "- User dataset\n",
    "- You can decide/justify this ranking and decide the importance of ratings/fans. \n",
    "- Focusing on fans is better. \n"
   ]
  },
  {
   "cell_type": "markdown",
   "metadata": {},
   "source": [
    "#### Step 1: \n",
    "- Load the data:\n",
    "  - We can use SQL: SQlContext"
   ]
  },
  {
   "cell_type": "code",
   "execution_count": 5,
   "metadata": {},
   "outputs": [],
   "source": [
    "# import SQLContext and create a sqlContext\n",
    "from pyspark.sql import SQLContext\n",
    "sqlContext = SQLContext(sc)"
   ]
  },
  {
   "cell_type": "code",
   "execution_count": 6,
   "metadata": {},
   "outputs": [],
   "source": [
    "# get SQL table\n",
    "df_json = sqlContext.read.json(\"../data/yelp/yelp_academic_dataset_user.json.gz\")"
   ]
  },
  {
   "cell_type": "code",
   "execution_count": null,
   "metadata": {
    "scrolled": true
   },
   "outputs": [],
   "source": [
    "df_json.printSchema()"
   ]
  },
  {
   "cell_type": "code",
   "execution_count": 8,
   "metadata": {},
   "outputs": [],
   "source": [
    "df_json.registerTempTable(\"tbl_json\")"
   ]
  },
  {
   "cell_type": "markdown",
   "metadata": {},
   "source": [
    "  - PySpark way"
   ]
  },
  {
   "cell_type": "code",
   "execution_count": 14,
   "metadata": {},
   "outputs": [
    {
     "name": "stdout",
     "output_type": "stream",
     "text": [
      "1968703\n"
     ]
    },
    {
     "data": {
      "text/plain": [
       "['{\"user_id\":\"ntlvfPzc8eglqvk92iDIAw\",\"name\":\"Rafael\",\"review_count\":553,\"yelping_since\":\"2007-07-06 03:27:11\",\"useful\":628,\"funny\":225,\"cool\":227,\"elite\":\"\",\"friends\":\"oeMvJh94PiGQnx_6GlndPQ, wm1z1PaJKvHgSDRKfwhfDg, IkRib6Xs91PPW7pon7VVig, A8Aq8f0-XvLBcyMk2GJdJQ, eEZM1kogR7eL4GOBZyPvBA, e1o1LN7ez5ckCpQeAab4iw, _HrJVzFaRFUhPva8cwBjpQ, pZeGZGzX-ROT_D5lam5uNg, 0S6EI51ej5J7dgYz3-O0lA, woDt8raW-AorxQM_tIE2eA, hWUnSE5gKXNe7bDc8uAG9A, c_3LDSO2RHwZ94_Q6j_O7w, -uv1wDiaplY6eXXS0VwQiA, QFjqxXn3acDC7hckFGUKMg, ErOqapICmHPTN8YobZIcfQ, mJLRvqLOKhqEdkgt9iEaCQ, VKX7jlScJSA-ja5hYRw12Q, ijIC9w5PRcj3dWVlanjZeg, CIZGlEw-Bp0rmkP8M6yQ9Q, OC6fT5WZ8EU7tEVJ3bzPBQ, UZSDGTDpycDzrlfUlyw2dQ, deL6e_z9xqZTIODKqnvRXQ, 5mG2ENw2PylIWElqHSMGqg, Uh5Kug2fvDd51RYmsNZkGg, 4dI4uoShugD9z84fYupelQ, EQpFHqGT9Tk6YSwORTtwpg, o4EGL2-ICGmRJzJ3GxB-vw, s8gK7sdVzJcYKcPv2dkZXw, vOYVZgb_GVe-kdtjQwSUHw, wBbjgHsrKr7BsPBrQwJf2w, p59u2EC_qcmCmLeX1jCi5Q, VSAZI1eHDrOPRWMK4Q2DIQ, efMfeI_dkhpeGykaRJqxfQ, x6qYcQ8_i0mMDzSLsFCbZg, K_zSmtNGw1fu-vmxyTVfCQ, 5IM6YPQCK-NABkXmHhlRGQ, U_w8ZMD26vnkeeS1sD7s4Q, AbfS_oXF8H6HJb5jFqhrLw, hbcjX4_D4KIfonNnwrH-cg, UKf66_MPz0zHCP70mF6p1g, hK2gYbxZRTqcqlSiQQcrtQ, 2Q45w_Twx_T9dXqlE16xtQ, BwRn8qcKSeA77HLaOTbfiQ, jouOn4VS_DtFPtMR2w8VDA, ESteyJabbfvqas6CEDs3pQ\",\"fans\":14,\"average_stars\":3.57,\"compliment_hot\":3,\"compliment_more\":2,\"compliment_profile\":1,\"compliment_cute\":0,\"compliment_list\":1,\"compliment_note\":11,\"compliment_plain\":15,\"compliment_cool\":22,\"compliment_funny\":22,\"compliment_writer\":10,\"compliment_photos\":0}']"
      ]
     },
     "execution_count": 14,
     "metadata": {},
     "output_type": "execute_result"
    }
   ],
   "source": [
    "df_data = sc.textFile(\"../data/yelp/yelp_academic_dataset_user.json.gz\")\n",
    "print(df_data.count())\n",
    "df_data.take(1)"
   ]
  },
  {
   "cell_type": "markdown",
   "metadata": {},
   "source": [
    "#### Step 2:\n",
    "  - Get the information using SQL Statement"
   ]
  },
  {
   "cell_type": "code",
   "execution_count": 9,
   "metadata": {},
   "outputs": [
    {
     "name": "stdout",
     "output_type": "stream",
     "text": [
      "root\n",
      " |-- average_stars: double (nullable = true)\n",
      " |-- compliment_cool: long (nullable = true)\n",
      " |-- compliment_cute: long (nullable = true)\n",
      " |-- compliment_funny: long (nullable = true)\n",
      " |-- compliment_hot: long (nullable = true)\n",
      " |-- compliment_list: long (nullable = true)\n",
      " |-- compliment_more: long (nullable = true)\n",
      " |-- compliment_note: long (nullable = true)\n",
      " |-- compliment_photos: long (nullable = true)\n",
      " |-- compliment_plain: long (nullable = true)\n",
      " |-- compliment_profile: long (nullable = true)\n",
      " |-- compliment_writer: long (nullable = true)\n",
      " |-- cool: long (nullable = true)\n",
      " |-- elite: string (nullable = true)\n",
      " |-- fans: long (nullable = true)\n",
      " |-- friends: string (nullable = true)\n",
      " |-- funny: long (nullable = true)\n",
      " |-- name: string (nullable = true)\n",
      " |-- review_count: long (nullable = true)\n",
      " |-- useful: long (nullable = true)\n",
      " |-- user_id: string (nullable = true)\n",
      " |-- yelping_since: string (nullable = true)\n",
      "\n"
     ]
    }
   ],
   "source": [
    "df_json.printSchema()"
   ]
  },
  {
   "cell_type": "code",
   "execution_count": 12,
   "metadata": {},
   "outputs": [],
   "source": [
    "# 100 users with highest number of ratings/fans.\n",
    "highest_fan = sqlContext.sql(\"SELECT user_id, review_count, fans FROM tbl_json ORDER BY fans DESC LIMIT 100\")"
   ]
  },
  {
   "cell_type": "code",
   "execution_count": 13,
   "metadata": {},
   "outputs": [
    {
     "name": "stdout",
     "output_type": "stream",
     "text": [
      "+--------------------+------------+-----+\n",
      "|             user_id|review_count| fans|\n",
      "+--------------------+------------+-----+\n",
      "|37cpUoM8hlkSQfReI...|        1787|11568|\n",
      "|hizGc5W1tBHPghM5Y...|        1629| 3315|\n",
      "|eKUGKQRE-Ywi5dY55...|        2430| 2916|\n",
      "|Hi10sGSZNxQH3NLyW...|       11112| 2718|\n",
      "|j14WgRoU_-2ZE1aw1...|        3566| 2634|\n",
      "|iLjMdZi0Tm7DQxX1C...|        2431| 2516|\n",
      "|JjXuiru1_ONzDkYVr...|        1207| 2316|\n",
      "|ITa3vh5ERI90G_WP4...|        3079| 2280|\n",
      "|UsXqCXRZwSCSw0AT7...|        2919| 2263|\n",
      "|VHdY6oG2JPVNjihWh...|        1979| 2140|\n",
      "|fgwI3rYHOv1ipfVfC...|        1847| 2113|\n",
      "|nkN_do3fJ9xekchVC...|        1363| 2046|\n",
      "|m07sy7eLtOjVdZ8oN...|        4913| 2034|\n",
      "|peuxbSQwXed-81cSq...|        1592| 1916|\n",
      "|AHRrG3T1gJpHvtpZ-...|        2109| 1747|\n",
      "|WG3w_73scm_JUWJ_3...|        5013| 1733|\n",
      "|NfU0zDaTMEQ4-X9db...|        1137| 1726|\n",
      "|lt7bNHl-TXziny4FE...|         802| 1708|\n",
      "|3zxy3LVBV3ttxoYbY...|        1894| 1696|\n",
      "|ysCBsXWPB-LAiewVS...|        3687| 1672|\n",
      "+--------------------+------------+-----+\n",
      "only showing top 20 rows\n",
      "\n"
     ]
    }
   ],
   "source": [
    "highest_fan.show()"
   ]
  },
  {
   "cell_type": "markdown",
   "metadata": {},
   "source": [
    "  - Get the information using PySpark Statement"
   ]
  },
  {
   "cell_type": "code",
   "execution_count": 15,
   "metadata": {},
   "outputs": [
    {
     "data": {
      "text/plain": [
       "['{\"user_id\":\"ntlvfPzc8eglqvk92iDIAw\",\"name\":\"Rafael\",\"review_count\":553,\"yelping_since\":\"2007-07-06 03:27:11\",\"useful\":628,\"funny\":225,\"cool\":227,\"elite\":\"\",\"friends\":\"oeMvJh94PiGQnx_6GlndPQ, wm1z1PaJKvHgSDRKfwhfDg, IkRib6Xs91PPW7pon7VVig, A8Aq8f0-XvLBcyMk2GJdJQ, eEZM1kogR7eL4GOBZyPvBA, e1o1LN7ez5ckCpQeAab4iw, _HrJVzFaRFUhPva8cwBjpQ, pZeGZGzX-ROT_D5lam5uNg, 0S6EI51ej5J7dgYz3-O0lA, woDt8raW-AorxQM_tIE2eA, hWUnSE5gKXNe7bDc8uAG9A, c_3LDSO2RHwZ94_Q6j_O7w, -uv1wDiaplY6eXXS0VwQiA, QFjqxXn3acDC7hckFGUKMg, ErOqapICmHPTN8YobZIcfQ, mJLRvqLOKhqEdkgt9iEaCQ, VKX7jlScJSA-ja5hYRw12Q, ijIC9w5PRcj3dWVlanjZeg, CIZGlEw-Bp0rmkP8M6yQ9Q, OC6fT5WZ8EU7tEVJ3bzPBQ, UZSDGTDpycDzrlfUlyw2dQ, deL6e_z9xqZTIODKqnvRXQ, 5mG2ENw2PylIWElqHSMGqg, Uh5Kug2fvDd51RYmsNZkGg, 4dI4uoShugD9z84fYupelQ, EQpFHqGT9Tk6YSwORTtwpg, o4EGL2-ICGmRJzJ3GxB-vw, s8gK7sdVzJcYKcPv2dkZXw, vOYVZgb_GVe-kdtjQwSUHw, wBbjgHsrKr7BsPBrQwJf2w, p59u2EC_qcmCmLeX1jCi5Q, VSAZI1eHDrOPRWMK4Q2DIQ, efMfeI_dkhpeGykaRJqxfQ, x6qYcQ8_i0mMDzSLsFCbZg, K_zSmtNGw1fu-vmxyTVfCQ, 5IM6YPQCK-NABkXmHhlRGQ, U_w8ZMD26vnkeeS1sD7s4Q, AbfS_oXF8H6HJb5jFqhrLw, hbcjX4_D4KIfonNnwrH-cg, UKf66_MPz0zHCP70mF6p1g, hK2gYbxZRTqcqlSiQQcrtQ, 2Q45w_Twx_T9dXqlE16xtQ, BwRn8qcKSeA77HLaOTbfiQ, jouOn4VS_DtFPtMR2w8VDA, ESteyJabbfvqas6CEDs3pQ\",\"fans\":14,\"average_stars\":3.57,\"compliment_hot\":3,\"compliment_more\":2,\"compliment_profile\":1,\"compliment_cute\":0,\"compliment_list\":1,\"compliment_note\":11,\"compliment_plain\":15,\"compliment_cool\":22,\"compliment_funny\":22,\"compliment_writer\":10,\"compliment_photos\":0}']"
      ]
     },
     "execution_count": 15,
     "metadata": {},
     "output_type": "execute_result"
    }
   ],
   "source": [
    "df_data.take(1)"
   ]
  },
  {
   "cell_type": "code",
   "execution_count": 17,
   "metadata": {},
   "outputs": [
    {
     "data": {
      "text/plain": [
       "[('ntlvfPzc8eglqvk92iDIAw', 553, 14)]"
      ]
     },
     "execution_count": 17,
     "metadata": {},
     "output_type": "execute_result"
    }
   ],
   "source": [
    "import json\n",
    "\n",
    "df_top_users = df_data.map(lambda x: json.loads(x)).map(lambda x: (x[\"user_id\"], x[\"review_count\"], x[\"fans\"]))\n",
    "df_top_users.take(1)"
   ]
  },
  {
   "cell_type": "code",
   "execution_count": 20,
   "metadata": {},
   "outputs": [
    {
     "data": {
      "text/plain": [
       "('ntlvfPzc8eglqvk92iDIAw', 553, 14)"
      ]
     },
     "execution_count": 20,
     "metadata": {},
     "output_type": "execute_result"
    }
   ],
   "source": [
    "def extract_user(x):\n",
    "    x_json = json.loads(x)\n",
    "    return (x_json[\"user_id\"], x_json[\"review_count\"], x_json[\"fans\"])\n",
    "\n",
    "tmp = df_data.take(1)\n",
    "extract_user(tmp[0])"
   ]
  },
  {
   "cell_type": "code",
   "execution_count": 22,
   "metadata": {
    "scrolled": true
   },
   "outputs": [
    {
     "data": {
      "text/plain": [
       "[('37cpUoM8hlkSQfReIEBd-Q', 1787, 11568),\n",
       " ('hizGc5W1tBHPghM5YKCAtg', 1629, 3315),\n",
       " ('eKUGKQRE-Ywi5dY55_zChg', 2430, 2916),\n",
       " ('Hi10sGSZNxQH3NLyWSZ1oA', 11112, 2718),\n",
       " ('j14WgRoU_-2ZE1aw1dXrJg', 3566, 2634),\n",
       " ('iLjMdZi0Tm7DQxX1C1_2dg', 2431, 2516),\n",
       " ('JjXuiru1_ONzDkYVrHN0aw', 1207, 2316),\n",
       " ('ITa3vh5ERI90G_WP4SmGUQ', 3079, 2280),\n",
       " ('UsXqCXRZwSCSw0AT7y1uBg', 2919, 2263),\n",
       " ('VHdY6oG2JPVNjihWhOooAQ', 1979, 2140),\n",
       " ('fgwI3rYHOv1ipfVfCSx7pg', 1847, 2113),\n",
       " ('nkN_do3fJ9xekchVC-v68A', 1363, 2046),\n",
       " ('m07sy7eLtOjVdZ8oN9JKag', 4913, 2034),\n",
       " ('peuxbSQwXed-81cSqL7Ykw', 1592, 1916),\n",
       " ('AHRrG3T1gJpHvtpZ-K0G_g', 2109, 1747),\n",
       " ('WG3w_73scm_JUWJ_3Lgn0Q', 5013, 1733),\n",
       " ('NfU0zDaTMEQ4-X9dbQWd9A', 1137, 1726),\n",
       " ('lt7bNHl-TXziny4FETu8nA', 802, 1708),\n",
       " ('3zxy3LVBV3ttxoYbY4rQ8A', 1894, 1696),\n",
       " ('ysCBsXWPB-LAiewVS3jZfQ', 3687, 1672),\n",
       " ('wEE-YMx5pmSuagLtNxMPKA', 1845, 1653),\n",
       " ('djxnI8Ux8ZYQJhiOQkrRhA', 2315, 1614),\n",
       " ('G9Vb6yQ047TC3O_-GG4WZA', 1540, 1574),\n",
       " ('JADdo9NEeO5Az9aOYbyvZA', 2382, 1464),\n",
       " ('58yXn5Y4409kc9q88YwU6w', 1538, 1411),\n",
       " ('AbMjnKOwg736fcIu8apuyQ', 2867, 1408),\n",
       " ('23J4vG9_xxxdnmi8CBX7Ng', 1667, 1379),\n",
       " ('B7ecAeAIrXg7sgmabS38pg', 2603, 1363),\n",
       " ('q_QQ5kBBwlCcbL1s4NVK3g', 1218, 1354),\n",
       " ('IU86PZPgTDCFwJEuAg2j7g', 2138, 1313),\n",
       " ('lZbotco47bHU7oE5b3d1DA', 642, 1307),\n",
       " ('cufhYFdyrUAt4SWe-m0grQ', 2380, 1282),\n",
       " ('8k3aO-mPeyhbR5HUucA5aA', 14455, 1271),\n",
       " ('QnIrewrXxFnssw_gG1gF-Q', 2768, 1244),\n",
       " ('IDVFG1pNSHIHoVuoLuZpcQ', 1502, 1233),\n",
       " ('zFYs8gSUYDvXkb6O7YkRkw', 894, 1216),\n",
       " ('3mNz5nQFTIBQm0oU5mBR0w', 2737, 1208),\n",
       " ('ET8n-r7glWYqZhuR6GcdNw', 2112, 1202),\n",
       " ('pnTiEaqM4slogpY97n9Kvg', 1167, 1189),\n",
       " ('o5STsEtfvD1Ig0J7Z-1uxA', 1932, 1174),\n",
       " ('gjhzKWsqCIrpEd9pevbKZw', 3179, 1173),\n",
       " ('mvK1pv-x0Z5rP4Hz9cWBWw', 1653, 1140),\n",
       " ('nxWrhF_hyX0wwjrEkQX8uQ', 1254, 1138),\n",
       " ('Ve0LUwcrzxL7w0RYgY4Aaw', 1987, 1110),\n",
       " ('5MCBLBxr10NLUKZ4AboAMg', 2773, 1100),\n",
       " ('W7DHyQlY_kXls2iXt-_2Ag', 2924, 1099),\n",
       " ('U4INQZOPSUaj8hMjLlZ3KA', 4631, 1090),\n",
       " ('6s-g2vFu12OemhiK3FJuOQ', 2368, 1073),\n",
       " ('_aSs5dSAabuwnXUGBPzASw', 392, 1065),\n",
       " ('oazuTtSyKV6zrhbsgbdbUQ', 657, 1056),\n",
       " ('yh8_9Ix1wp9dekvyOZbilQ', 2091, 1040),\n",
       " ('i_DR3vdE73nVm2GlMbGpGA', 951, 1033),\n",
       " ('GFyA9ULGAeD-xZEPto2y7A', 1305, 1028),\n",
       " ('ZIOCmdFaMIF56FR-nWr_2A', 2922, 1023),\n",
       " ('WwulXySQN8t2hwqH_yWurA', 839, 1018),\n",
       " ('w-w-k-QXosIKQ8HQVwU6IQ', 2740, 1014),\n",
       " ('I2XEhv9zBeAJcwYIrnMf1g', 1061, 1014),\n",
       " ('mgytZAasaiBf-END4aZD9w', 1622, 984),\n",
       " ('hcJzh-FFDEfYKGpyM0TpZA', 790, 982),\n",
       " ('aIJ-2R1q5G7oqzBSgK_Vvw', 1229, 979),\n",
       " ('dIIKEfOgo0KqUfGQvGikPg', 2061, 971),\n",
       " ('2qKOL7C7WbG_M3EOWvTFxA', 1325, 959),\n",
       " ('Pf7FI0OukC_CEcCz0ZxoUw', 2362, 952),\n",
       " ('WWnhqRnWWjutMqh-2SzEuQ', 3729, 940),\n",
       " ('om5ZiponkpRqUNa3pVPiRg', 2677, 924),\n",
       " ('f1MFQxTZAWJnRQdrouLg_A', 1513, 918),\n",
       " ('giJqvuH8EC62Hi5WboZ08w', 90, 917),\n",
       " ('To7EBxWC-Yz011V2-tdTvA', 572, 915),\n",
       " ('1vXJWH7L0IMEz5-8aU3SOA', 825, 914),\n",
       " ('rcU7ysY41qGppbw4pQgjqg', 1893, 913),\n",
       " ('9lU5zOPluc6Y8JZUL9nzsQ', 809, 912),\n",
       " ('1kpMAKRZuAz3OzxBav3XTg', 1197, 889),\n",
       " ('0G-QF457q_0Z_jKqh6xWiA', 1877, 860),\n",
       " ('bsMGQruRQGgQZK4KA9Q4Aw', 1626, 860),\n",
       " ('9HGR8sU_zm15sI109H-SGQ', 924, 859),\n",
       " ('jt49xjEjQisu6wTTGn6B3A', 1727, 857),\n",
       " ('vHc-UrI9yfL_pnnc6nJtyQ', 931, 857),\n",
       " ('l3S1srqK1CvjB_S4r-ZBeg', 1143, 849),\n",
       " ('nmdkHL2JKFx55T3nq5VziA', 7626, 842),\n",
       " ('pou3BbKsIozfH50rxmnMew', 2447, 836),\n",
       " ('CdeyZZ6ZGhvs7YCzVheeRg', 505, 834),\n",
       " ('qI3uzegMdq3q3WxAajECGw', 916, 831),\n",
       " ('NNL1zLTP2J_SOputgoPYeQ', 1642, 831),\n",
       " ('NRGJ4IvauajqqCbhT640cw', 1239, 830),\n",
       " ('SQXsow-nuLYYQnTcsIedIA', 546, 829),\n",
       " ('DS0Idr2XDhz5e7ZfSy0dYA', 1493, 826),\n",
       " ('idJ35gltZ90eFFCm2YvtXQ', 1197, 825),\n",
       " ('QiciohgD8N6vCty4vGL3pQ', 878, 824),\n",
       " ('MGPQVLsODMm9ZtYQW-g_OA', 1806, 823),\n",
       " ('4Y81J2Tdq5XAnkeYmCZ2ow', 1413, 818),\n",
       " ('--2vR0DIsmQ6WfcSzKWigw', 1498, 808),\n",
       " ('ACUVZ4SiN0gni7dzVDm9EQ', 2093, 805),\n",
       " ('RgDVC3ZUBqpEe6Y1kPhIpw', 1279, 802),\n",
       " ('lYp818T-xh8Ss79To5Azhw', 1523, 793),\n",
       " ('59GSwMflQFllOAWvw0F5mw', 694, 790),\n",
       " ('7IV3JXTXufasWNSkDEdrcQ', 734, 790),\n",
       " ('CxDOIDnH8gp9KXzpBHJYXw', 6633, 789),\n",
       " ('kPgNVSxXnhkyWBkqTcW45g', 910, 788),\n",
       " ('8DEyKVyplnOcSKx39vatbg', 836, 786),\n",
       " ('bLbSNkLggFnqwNNzzq-Ijw', 4627, 785)]"
      ]
     },
     "execution_count": 22,
     "metadata": {},
     "output_type": "execute_result"
    }
   ],
   "source": [
    "df_top_users = df_data.map(extract_user).takeOrdered(100, lambda x: -x[2])\n",
    "df_top_users"
   ]
  },
  {
   "cell_type": "code",
   "execution_count": 24,
   "metadata": {},
   "outputs": [
    {
     "name": "stdout",
     "output_type": "stream",
     "text": [
      "+--------------------+------------+-----+\n",
      "|             user_id|review_count| fans|\n",
      "+--------------------+------------+-----+\n",
      "|37cpUoM8hlkSQfReI...|        1787|11568|\n",
      "|hizGc5W1tBHPghM5Y...|        1629| 3315|\n",
      "|eKUGKQRE-Ywi5dY55...|        2430| 2916|\n",
      "|Hi10sGSZNxQH3NLyW...|       11112| 2718|\n",
      "|j14WgRoU_-2ZE1aw1...|        3566| 2634|\n",
      "|iLjMdZi0Tm7DQxX1C...|        2431| 2516|\n",
      "|JjXuiru1_ONzDkYVr...|        1207| 2316|\n",
      "|ITa3vh5ERI90G_WP4...|        3079| 2280|\n",
      "|UsXqCXRZwSCSw0AT7...|        2919| 2263|\n",
      "|VHdY6oG2JPVNjihWh...|        1979| 2140|\n",
      "|fgwI3rYHOv1ipfVfC...|        1847| 2113|\n",
      "|nkN_do3fJ9xekchVC...|        1363| 2046|\n",
      "|m07sy7eLtOjVdZ8oN...|        4913| 2034|\n",
      "|peuxbSQwXed-81cSq...|        1592| 1916|\n",
      "|AHRrG3T1gJpHvtpZ-...|        2109| 1747|\n",
      "|WG3w_73scm_JUWJ_3...|        5013| 1733|\n",
      "|NfU0zDaTMEQ4-X9db...|        1137| 1726|\n",
      "|lt7bNHl-TXziny4FE...|         802| 1708|\n",
      "|3zxy3LVBV3ttxoYbY...|        1894| 1696|\n",
      "|ysCBsXWPB-LAiewVS...|        3687| 1672|\n",
      "+--------------------+------------+-----+\n",
      "only showing top 20 rows\n",
      "\n"
     ]
    }
   ],
   "source": [
    "highest_fan.show()"
   ]
  },
  {
   "cell_type": "markdown",
   "metadata": {},
   "source": [
    "### Extract the reviews of these users and combine it with the business information. \n",
    "\n",
    "- Are they continental, regional, or local eaters? \n",
    "    - Look at review data for business data, look at business data for location. \n",
    "    - A dataset exists, is posted on Discord. \n",
    "    - Second options: distance between furthest pair of restaurants, cluster into three. \n",
    "- Is there a preference in restaurant/food style of their reviews? \n",
    "    - How/Can we phrase this as a frequent items question?\n",
    "        - per user\n",
    "            - set of items: categories\n",
    "            - set of baskets: restaurants\n",
    "- Can you infer the locations of these users?\n",
    "    - pay attention to timing patterns of review"
   ]
  },
  {
   "cell_type": "markdown",
   "metadata": {},
   "source": [
    "### Identify one of your favorite restaurants that is available on Yelp. Search for all reviews and reviewers for this restaurants. \n",
    "\n",
    "- Is this restaurant frequented by non-local reviewers (how do you know)?\n",
    "- What are the positive things about this restaurant (study higher-rated reviews)\n",
    "- What are the negative things about this restaurant (study lower-rated reviews)"
   ]
  },
  {
   "cell_type": "code",
   "execution_count": null,
   "metadata": {},
   "outputs": [],
   "source": []
  }
 ],
 "metadata": {
  "kernelspec": {
   "display_name": "Python 3",
   "language": "python",
   "name": "python3"
  },
  "language_info": {
   "codemirror_mode": {
    "name": "ipython",
    "version": 3
   },
   "file_extension": ".py",
   "mimetype": "text/x-python",
   "name": "python",
   "nbconvert_exporter": "python",
   "pygments_lexer": "ipython3",
   "version": "3.8.5"
  }
 },
 "nbformat": 4,
 "nbformat_minor": 4
}
