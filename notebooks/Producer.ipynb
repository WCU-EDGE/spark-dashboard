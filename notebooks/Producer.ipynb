{
 "cells": [
  {
   "cell_type": "code",
   "execution_count": 1,
   "id": "6538276f",
   "metadata": {},
   "outputs": [],
   "source": [
    "from kafka import KafkaProducer\n",
    "import json"
   ]
  },
  {
   "cell_type": "code",
   "execution_count": 2,
   "id": "db5dafee",
   "metadata": {},
   "outputs": [],
   "source": [
    "producer = KafkaProducer(\n",
    " bootstrap_servers='broker:9092',\n",
    " value_serializer=lambda v: json.dumps(v).encode('ascii')\n",
    ")"
   ]
  },
  {
   "cell_type": "code",
   "execution_count": 3,
   "id": "967d25bb",
   "metadata": {},
   "outputs": [],
   "source": [
    "producer.send(\n",
    " 'test',\n",
    " value=\n",
    "    {\n",
    "     \"name\": \"Giuseppe Rossi\",\n",
    "     \"hotel\": \"Luxury Hotel\",\n",
    "     \"dateFrom\": \"25-06-2021\",\n",
    "     \"dateTo\": \"07-07-2021\",  \n",
    "     \"details\": \"I want the best room!!!\"\n",
    "     }\n",
    ")\n",
    "producer.flush()"
   ]
  },
  {
   "cell_type": "code",
   "execution_count": 4,
   "id": "d22de49d",
   "metadata": {},
   "outputs": [],
   "source": [
    "producer.send(\n",
    " 'test',\n",
    " value=\n",
    "    {\n",
    "     \"name\": \"Golden Rams\",\n",
    "     \"hotel\": \"Luxury Hotel\",\n",
    "     \"dateFrom\": \"25-06-2021\",\n",
    "     \"dateTo\": \"07-07-2021\",  \n",
    "     \"details\": \"I want the best room!!!\"\n",
    "     }\n",
    ")\n",
    "producer.flush()"
   ]
  },
  {
   "cell_type": "code",
   "execution_count": null,
   "id": "67b8c691",
   "metadata": {},
   "outputs": [],
   "source": []
  }
 ],
 "metadata": {
  "kernelspec": {
   "display_name": "Python 3",
   "language": "python",
   "name": "python3"
  },
  "language_info": {
   "codemirror_mode": {
    "name": "ipython",
    "version": 3
   },
   "file_extension": ".py",
   "mimetype": "text/x-python",
   "name": "python",
   "nbconvert_exporter": "python",
   "pygments_lexer": "ipython3",
   "version": "3.6.9"
  }
 },
 "nbformat": 4,
 "nbformat_minor": 5
}
